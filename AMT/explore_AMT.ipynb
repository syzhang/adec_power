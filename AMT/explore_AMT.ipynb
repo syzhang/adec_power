{
 "cells": [
  {
   "cell_type": "code",
   "execution_count": 1,
   "metadata": {},
   "outputs": [],
   "source": [
    "import numpy as np\n",
    "import pandas as pd"
   ]
  },
  {
   "cell_type": "code",
   "execution_count": 3,
   "metadata": {},
   "outputs": [],
   "source": [
    "df = pd.read_csv('./AMT/AMT_summary_data.csv')"
   ]
  },
  {
   "cell_type": "code",
   "execution_count": 4,
   "metadata": {
    "scrolled": true
   },
   "outputs": [
    {
     "data": {
      "text/plain": [
       "Index(['ageZ', 'gender_F', 'GSavoidanceRaw', 'GSavoidanceZ', 'GSratingRaw',\n",
       "       'GSratingZ', 'STAI_totalZ', 'AMI_totalZ', 'OCI_totalZ', 'PHQ_totalZ',\n",
       "       'BIS_totalZ', 'CSQ_internalZ', 'CSQ_globalZ', 'CSQ_stableZ',\n",
       "       'CSQ_selfworthZ', 'intrusive_anxiety', 'lowSelfWorth',\n",
       "       'lackSelfControl', 'sigmaN', 'sigmaNprecis', 'sigmaA', 'sigmaAprecis',\n",
       "       'eta', 'kappa', 'beta', 'bias'],\n",
       "      dtype='object')"
      ]
     },
     "execution_count": 4,
     "metadata": {},
     "output_type": "execute_result"
    }
   ],
   "source": [
    "df.columns"
   ]
  },
  {
   "cell_type": "code",
   "execution_count": 5,
   "metadata": {},
   "outputs": [],
   "source": [
    "params = ['sigmaN', 'sigmaA', 'eta', 'kappa', 'beta', 'bias']\n",
    "factors = ['intrusive_anxiety', 'lowSelfWorth','lackSelfControl']"
   ]
  },
  {
   "cell_type": "code",
   "execution_count": 6,
   "metadata": {},
   "outputs": [
    {
     "data": {
      "text/html": [
       "<div>\n",
       "<style scoped>\n",
       "    .dataframe tbody tr th:only-of-type {\n",
       "        vertical-align: middle;\n",
       "    }\n",
       "\n",
       "    .dataframe tbody tr th {\n",
       "        vertical-align: top;\n",
       "    }\n",
       "\n",
       "    .dataframe thead th {\n",
       "        text-align: right;\n",
       "    }\n",
       "</style>\n",
       "<table border=\"1\" class=\"dataframe\">\n",
       "  <thead>\n",
       "    <tr style=\"text-align: right;\">\n",
       "      <th></th>\n",
       "      <th>ageZ</th>\n",
       "      <th>gender_F</th>\n",
       "      <th>GSavoidanceRaw</th>\n",
       "      <th>GSavoidanceZ</th>\n",
       "      <th>GSratingRaw</th>\n",
       "      <th>GSratingZ</th>\n",
       "      <th>STAI_totalZ</th>\n",
       "      <th>AMI_totalZ</th>\n",
       "      <th>OCI_totalZ</th>\n",
       "      <th>PHQ_totalZ</th>\n",
       "      <th>...</th>\n",
       "      <th>lowSelfWorth</th>\n",
       "      <th>lackSelfControl</th>\n",
       "      <th>sigmaN</th>\n",
       "      <th>sigmaNprecis</th>\n",
       "      <th>sigmaA</th>\n",
       "      <th>sigmaAprecis</th>\n",
       "      <th>eta</th>\n",
       "      <th>kappa</th>\n",
       "      <th>beta</th>\n",
       "      <th>bias</th>\n",
       "    </tr>\n",
       "  </thead>\n",
       "  <tbody>\n",
       "    <tr>\n",
       "      <th>0</th>\n",
       "      <td>-0.719611</td>\n",
       "      <td>1</td>\n",
       "      <td>0.550</td>\n",
       "      <td>0.182419</td>\n",
       "      <td>63.75</td>\n",
       "      <td>0.631551</td>\n",
       "      <td>-0.222654</td>\n",
       "      <td>-0.126636</td>\n",
       "      <td>-0.490305</td>\n",
       "      <td>-0.247312</td>\n",
       "      <td>...</td>\n",
       "      <td>0.214</td>\n",
       "      <td>-0.393995</td>\n",
       "      <td>0.065010</td>\n",
       "      <td>15.382207</td>\n",
       "      <td>0.941237</td>\n",
       "      <td>1.062431</td>\n",
       "      <td>0.542564</td>\n",
       "      <td>0.677766</td>\n",
       "      <td>10.598699</td>\n",
       "      <td>0.275786</td>\n",
       "    </tr>\n",
       "    <tr>\n",
       "      <th>1</th>\n",
       "      <td>0.159164</td>\n",
       "      <td>0</td>\n",
       "      <td>0.725</td>\n",
       "      <td>0.439284</td>\n",
       "      <td>70.00</td>\n",
       "      <td>0.349795</td>\n",
       "      <td>-0.378302</td>\n",
       "      <td>-0.008801</td>\n",
       "      <td>-0.304951</td>\n",
       "      <td>-0.642027</td>\n",
       "      <td>...</td>\n",
       "      <td>-1.230</td>\n",
       "      <td>-0.190080</td>\n",
       "      <td>0.043615</td>\n",
       "      <td>22.927654</td>\n",
       "      <td>0.380358</td>\n",
       "      <td>2.629100</td>\n",
       "      <td>0.002245</td>\n",
       "      <td>0.402235</td>\n",
       "      <td>7.886975</td>\n",
       "      <td>0.345553</td>\n",
       "    </tr>\n",
       "    <tr>\n",
       "      <th>2</th>\n",
       "      <td>-0.631734</td>\n",
       "      <td>1</td>\n",
       "      <td>0.475</td>\n",
       "      <td>-0.901930</td>\n",
       "      <td>58.50</td>\n",
       "      <td>-0.797003</td>\n",
       "      <td>-0.611775</td>\n",
       "      <td>-0.833648</td>\n",
       "      <td>-0.768337</td>\n",
       "      <td>-0.247312</td>\n",
       "      <td>...</td>\n",
       "      <td>-1.120</td>\n",
       "      <td>-0.774553</td>\n",
       "      <td>0.103341</td>\n",
       "      <td>9.676705</td>\n",
       "      <td>0.526268</td>\n",
       "      <td>1.900171</td>\n",
       "      <td>0.039531</td>\n",
       "      <td>0.840235</td>\n",
       "      <td>4.132394</td>\n",
       "      <td>0.483365</td>\n",
       "    </tr>\n",
       "    <tr>\n",
       "      <th>3</th>\n",
       "      <td>0.598552</td>\n",
       "      <td>0</td>\n",
       "      <td>0.600</td>\n",
       "      <td>0.192155</td>\n",
       "      <td>68.25</td>\n",
       "      <td>0.759942</td>\n",
       "      <td>0.789059</td>\n",
       "      <td>0.580375</td>\n",
       "      <td>-0.861014</td>\n",
       "      <td>0.147404</td>\n",
       "      <td>...</td>\n",
       "      <td>0.971</td>\n",
       "      <td>0.650719</td>\n",
       "      <td>0.071321</td>\n",
       "      <td>14.021081</td>\n",
       "      <td>0.924643</td>\n",
       "      <td>1.081498</td>\n",
       "      <td>0.156441</td>\n",
       "      <td>0.976710</td>\n",
       "      <td>6.050925</td>\n",
       "      <td>0.245747</td>\n",
       "    </tr>\n",
       "    <tr>\n",
       "      <th>4</th>\n",
       "      <td>-0.016591</td>\n",
       "      <td>1</td>\n",
       "      <td>0.550</td>\n",
       "      <td>0.202570</td>\n",
       "      <td>45.50</td>\n",
       "      <td>-0.038738</td>\n",
       "      <td>0.555586</td>\n",
       "      <td>-0.126636</td>\n",
       "      <td>-0.490305</td>\n",
       "      <td>-0.444669</td>\n",
       "      <td>...</td>\n",
       "      <td>1.860</td>\n",
       "      <td>0.089181</td>\n",
       "      <td>0.074518</td>\n",
       "      <td>13.419656</td>\n",
       "      <td>0.118090</td>\n",
       "      <td>8.468130</td>\n",
       "      <td>0.270760</td>\n",
       "      <td>0.963245</td>\n",
       "      <td>13.785147</td>\n",
       "      <td>0.286728</td>\n",
       "    </tr>\n",
       "  </tbody>\n",
       "</table>\n",
       "<p>5 rows × 26 columns</p>\n",
       "</div>"
      ],
      "text/plain": [
       "       ageZ  gender_F  GSavoidanceRaw  GSavoidanceZ  GSratingRaw  GSratingZ  \\\n",
       "0 -0.719611         1           0.550      0.182419        63.75   0.631551   \n",
       "1  0.159164         0           0.725      0.439284        70.00   0.349795   \n",
       "2 -0.631734         1           0.475     -0.901930        58.50  -0.797003   \n",
       "3  0.598552         0           0.600      0.192155        68.25   0.759942   \n",
       "4 -0.016591         1           0.550      0.202570        45.50  -0.038738   \n",
       "\n",
       "   STAI_totalZ  AMI_totalZ  OCI_totalZ  PHQ_totalZ  ...  lowSelfWorth  \\\n",
       "0    -0.222654   -0.126636   -0.490305   -0.247312  ...         0.214   \n",
       "1    -0.378302   -0.008801   -0.304951   -0.642027  ...        -1.230   \n",
       "2    -0.611775   -0.833648   -0.768337   -0.247312  ...        -1.120   \n",
       "3     0.789059    0.580375   -0.861014    0.147404  ...         0.971   \n",
       "4     0.555586   -0.126636   -0.490305   -0.444669  ...         1.860   \n",
       "\n",
       "   lackSelfControl    sigmaN  sigmaNprecis    sigmaA  sigmaAprecis       eta  \\\n",
       "0        -0.393995  0.065010     15.382207  0.941237      1.062431  0.542564   \n",
       "1        -0.190080  0.043615     22.927654  0.380358      2.629100  0.002245   \n",
       "2        -0.774553  0.103341      9.676705  0.526268      1.900171  0.039531   \n",
       "3         0.650719  0.071321     14.021081  0.924643      1.081498  0.156441   \n",
       "4         0.089181  0.074518     13.419656  0.118090      8.468130  0.270760   \n",
       "\n",
       "      kappa       beta      bias  \n",
       "0  0.677766  10.598699  0.275786  \n",
       "1  0.402235   7.886975  0.345553  \n",
       "2  0.840235   4.132394  0.483365  \n",
       "3  0.976710   6.050925  0.245747  \n",
       "4  0.963245  13.785147  0.286728  \n",
       "\n",
       "[5 rows x 26 columns]"
      ]
     },
     "execution_count": 6,
     "metadata": {},
     "output_type": "execute_result"
    }
   ],
   "source": [
    "df.head()"
   ]
  },
  {
   "cell_type": "code",
   "execution_count": 7,
   "metadata": {},
   "outputs": [],
   "source": [
    "dfa = df.sort_values(['intrusive_anxiety', 'lowSelfWorth','lackSelfControl'], \n",
    "                     ascending=[False,False,False])[params+factors]"
   ]
  },
  {
   "cell_type": "code",
   "execution_count": 8,
   "metadata": {},
   "outputs": [
    {
     "data": {
      "text/html": [
       "<div>\n",
       "<style scoped>\n",
       "    .dataframe tbody tr th:only-of-type {\n",
       "        vertical-align: middle;\n",
       "    }\n",
       "\n",
       "    .dataframe tbody tr th {\n",
       "        vertical-align: top;\n",
       "    }\n",
       "\n",
       "    .dataframe thead th {\n",
       "        text-align: right;\n",
       "    }\n",
       "</style>\n",
       "<table border=\"1\" class=\"dataframe\">\n",
       "  <thead>\n",
       "    <tr style=\"text-align: right;\">\n",
       "      <th></th>\n",
       "      <th>sigmaN</th>\n",
       "      <th>sigmaA</th>\n",
       "      <th>eta</th>\n",
       "      <th>kappa</th>\n",
       "      <th>beta</th>\n",
       "      <th>bias</th>\n",
       "      <th>intrusive_anxiety</th>\n",
       "      <th>lowSelfWorth</th>\n",
       "      <th>lackSelfControl</th>\n",
       "    </tr>\n",
       "  </thead>\n",
       "  <tbody>\n",
       "    <tr>\n",
       "      <th>76</th>\n",
       "      <td>0.065481</td>\n",
       "      <td>0.789656</td>\n",
       "      <td>0.002436</td>\n",
       "      <td>0.330919</td>\n",
       "      <td>8.704059</td>\n",
       "      <td>0.278986</td>\n",
       "      <td>3.970938</td>\n",
       "      <td>1.560</td>\n",
       "      <td>0.659695</td>\n",
       "    </tr>\n",
       "    <tr>\n",
       "      <th>344</th>\n",
       "      <td>0.066801</td>\n",
       "      <td>0.247253</td>\n",
       "      <td>0.275957</td>\n",
       "      <td>0.908588</td>\n",
       "      <td>11.827512</td>\n",
       "      <td>0.225750</td>\n",
       "      <td>3.661939</td>\n",
       "      <td>0.759</td>\n",
       "      <td>1.024628</td>\n",
       "    </tr>\n",
       "    <tr>\n",
       "      <th>427</th>\n",
       "      <td>0.048667</td>\n",
       "      <td>0.788739</td>\n",
       "      <td>0.084296</td>\n",
       "      <td>0.820606</td>\n",
       "      <td>7.038783</td>\n",
       "      <td>0.323904</td>\n",
       "      <td>3.584827</td>\n",
       "      <td>1.540</td>\n",
       "      <td>-0.016827</td>\n",
       "    </tr>\n",
       "    <tr>\n",
       "      <th>276</th>\n",
       "      <td>0.035571</td>\n",
       "      <td>0.331149</td>\n",
       "      <td>0.021165</td>\n",
       "      <td>0.428094</td>\n",
       "      <td>3.443041</td>\n",
       "      <td>0.337508</td>\n",
       "      <td>3.453166</td>\n",
       "      <td>0.204</td>\n",
       "      <td>-0.717579</td>\n",
       "    </tr>\n",
       "    <tr>\n",
       "      <th>197</th>\n",
       "      <td>0.069346</td>\n",
       "      <td>0.919420</td>\n",
       "      <td>0.292054</td>\n",
       "      <td>0.923328</td>\n",
       "      <td>8.688022</td>\n",
       "      <td>0.326710</td>\n",
       "      <td>3.435416</td>\n",
       "      <td>-1.210</td>\n",
       "      <td>0.457141</td>\n",
       "    </tr>\n",
       "  </tbody>\n",
       "</table>\n",
       "</div>"
      ],
      "text/plain": [
       "       sigmaN    sigmaA       eta     kappa       beta      bias  \\\n",
       "76   0.065481  0.789656  0.002436  0.330919   8.704059  0.278986   \n",
       "344  0.066801  0.247253  0.275957  0.908588  11.827512  0.225750   \n",
       "427  0.048667  0.788739  0.084296  0.820606   7.038783  0.323904   \n",
       "276  0.035571  0.331149  0.021165  0.428094   3.443041  0.337508   \n",
       "197  0.069346  0.919420  0.292054  0.923328   8.688022  0.326710   \n",
       "\n",
       "     intrusive_anxiety  lowSelfWorth  lackSelfControl  \n",
       "76            3.970938         1.560         0.659695  \n",
       "344           3.661939         0.759         1.024628  \n",
       "427           3.584827         1.540        -0.016827  \n",
       "276           3.453166         0.204        -0.717579  \n",
       "197           3.435416        -1.210         0.457141  "
      ]
     },
     "execution_count": 8,
     "metadata": {},
     "output_type": "execute_result"
    }
   ],
   "source": [
    "dfa.head()"
   ]
  },
  {
   "cell_type": "code",
   "execution_count": 144,
   "metadata": {},
   "outputs": [
    {
     "data": {
      "text/html": [
       "<div>\n",
       "<style scoped>\n",
       "    .dataframe tbody tr th:only-of-type {\n",
       "        vertical-align: middle;\n",
       "    }\n",
       "\n",
       "    .dataframe tbody tr th {\n",
       "        vertical-align: top;\n",
       "    }\n",
       "\n",
       "    .dataframe thead th {\n",
       "        text-align: right;\n",
       "    }\n",
       "</style>\n",
       "<table border=\"1\" class=\"dataframe\">\n",
       "  <thead>\n",
       "    <tr style=\"text-align: right;\">\n",
       "      <th></th>\n",
       "      <th>intrusive_anxiety</th>\n",
       "      <th>lackSelfControl</th>\n",
       "      <th>lowSelfWorth</th>\n",
       "    </tr>\n",
       "  </thead>\n",
       "  <tbody>\n",
       "    <tr>\n",
       "      <th>intrusive_anxiety</th>\n",
       "      <td>1.000000</td>\n",
       "      <td>0.318641</td>\n",
       "      <td>0.388261</td>\n",
       "    </tr>\n",
       "    <tr>\n",
       "      <th>lackSelfControl</th>\n",
       "      <td>0.318641</td>\n",
       "      <td>1.000000</td>\n",
       "      <td>0.312148</td>\n",
       "    </tr>\n",
       "    <tr>\n",
       "      <th>lowSelfWorth</th>\n",
       "      <td>0.388261</td>\n",
       "      <td>0.312148</td>\n",
       "      <td>1.000000</td>\n",
       "    </tr>\n",
       "  </tbody>\n",
       "</table>\n",
       "</div>"
      ],
      "text/plain": [
       "                   intrusive_anxiety  lackSelfControl  lowSelfWorth\n",
       "intrusive_anxiety           1.000000         0.318641      0.388261\n",
       "lackSelfControl             0.318641         1.000000      0.312148\n",
       "lowSelfWorth                0.388261         0.312148      1.000000"
      ]
     },
     "execution_count": 144,
     "metadata": {},
     "output_type": "execute_result"
    }
   ],
   "source": [
    "dfa[['intrusive_anxiety','lackSelfControl','lowSelfWorth']].corr()"
   ]
  },
  {
   "cell_type": "code",
   "execution_count": 322,
   "metadata": {},
   "outputs": [],
   "source": [
    "dfa_high = dfa.iloc[:48] # approx patients"
   ]
  },
  {
   "cell_type": "code",
   "execution_count": 323,
   "metadata": {
    "scrolled": true
   },
   "outputs": [
    {
     "data": {
      "text/html": [
       "<div>\n",
       "<style scoped>\n",
       "    .dataframe tbody tr th:only-of-type {\n",
       "        vertical-align: middle;\n",
       "    }\n",
       "\n",
       "    .dataframe tbody tr th {\n",
       "        vertical-align: top;\n",
       "    }\n",
       "\n",
       "    .dataframe thead th {\n",
       "        text-align: right;\n",
       "    }\n",
       "</style>\n",
       "<table border=\"1\" class=\"dataframe\">\n",
       "  <thead>\n",
       "    <tr style=\"text-align: right;\">\n",
       "      <th></th>\n",
       "      <th>sigmaN</th>\n",
       "      <th>sigmaA</th>\n",
       "      <th>eta</th>\n",
       "      <th>kappa</th>\n",
       "      <th>beta</th>\n",
       "      <th>bias</th>\n",
       "      <th>intrusive_anxiety</th>\n",
       "      <th>lowSelfWorth</th>\n",
       "      <th>lackSelfControl</th>\n",
       "    </tr>\n",
       "  </thead>\n",
       "  <tbody>\n",
       "    <tr>\n",
       "      <th>mean</th>\n",
       "      <td>0.049084</td>\n",
       "      <td>0.735342</td>\n",
       "      <td>0.180939</td>\n",
       "      <td>0.764051</td>\n",
       "      <td>9.636425</td>\n",
       "      <td>0.310812</td>\n",
       "      <td>2.076346</td>\n",
       "      <td>0.783456</td>\n",
       "      <td>0.545670</td>\n",
       "    </tr>\n",
       "    <tr>\n",
       "      <th>std</th>\n",
       "      <td>0.023468</td>\n",
       "      <td>0.207753</td>\n",
       "      <td>0.196327</td>\n",
       "      <td>0.242791</td>\n",
       "      <td>6.282430</td>\n",
       "      <td>0.166519</td>\n",
       "      <td>0.685087</td>\n",
       "      <td>1.054649</td>\n",
       "      <td>0.935152</td>\n",
       "    </tr>\n",
       "  </tbody>\n",
       "</table>\n",
       "</div>"
      ],
      "text/plain": [
       "        sigmaN    sigmaA       eta     kappa      beta      bias  \\\n",
       "mean  0.049084  0.735342  0.180939  0.764051  9.636425  0.310812   \n",
       "std   0.023468  0.207753  0.196327  0.242791  6.282430  0.166519   \n",
       "\n",
       "      intrusive_anxiety  lowSelfWorth  lackSelfControl  \n",
       "mean           2.076346      0.783456         0.545670  \n",
       "std            0.685087      1.054649         0.935152  "
      ]
     },
     "execution_count": 323,
     "metadata": {},
     "output_type": "execute_result"
    }
   ],
   "source": [
    "dfa_high.agg({'mean','std'})"
   ]
  },
  {
   "cell_type": "code",
   "execution_count": 332,
   "metadata": {},
   "outputs": [],
   "source": [
    "dfa_low = dfa.iloc[-48*4:] # approx controls"
   ]
  },
  {
   "cell_type": "code",
   "execution_count": 331,
   "metadata": {
    "scrolled": true
   },
   "outputs": [
    {
     "data": {
      "text/html": [
       "<div>\n",
       "<style scoped>\n",
       "    .dataframe tbody tr th:only-of-type {\n",
       "        vertical-align: middle;\n",
       "    }\n",
       "\n",
       "    .dataframe tbody tr th {\n",
       "        vertical-align: top;\n",
       "    }\n",
       "\n",
       "    .dataframe thead th {\n",
       "        text-align: right;\n",
       "    }\n",
       "</style>\n",
       "<table border=\"1\" class=\"dataframe\">\n",
       "  <thead>\n",
       "    <tr style=\"text-align: right;\">\n",
       "      <th></th>\n",
       "      <th>sigmaN</th>\n",
       "      <th>sigmaA</th>\n",
       "      <th>eta</th>\n",
       "      <th>kappa</th>\n",
       "      <th>beta</th>\n",
       "      <th>bias</th>\n",
       "      <th>intrusive_anxiety</th>\n",
       "      <th>lowSelfWorth</th>\n",
       "      <th>lackSelfControl</th>\n",
       "    </tr>\n",
       "  </thead>\n",
       "  <tbody>\n",
       "    <tr>\n",
       "      <th>mean</th>\n",
       "      <td>0.058039</td>\n",
       "      <td>0.682636</td>\n",
       "      <td>0.166464</td>\n",
       "      <td>0.731820</td>\n",
       "      <td>9.466421</td>\n",
       "      <td>0.307891</td>\n",
       "      <td>-1.016189</td>\n",
       "      <td>-0.436234</td>\n",
       "      <td>-0.368570</td>\n",
       "    </tr>\n",
       "    <tr>\n",
       "      <th>std</th>\n",
       "      <td>0.044343</td>\n",
       "      <td>0.239846</td>\n",
       "      <td>0.194145</td>\n",
       "      <td>0.272995</td>\n",
       "      <td>8.335521</td>\n",
       "      <td>0.143294</td>\n",
       "      <td>0.211828</td>\n",
       "      <td>0.801424</td>\n",
       "      <td>0.872832</td>\n",
       "    </tr>\n",
       "  </tbody>\n",
       "</table>\n",
       "</div>"
      ],
      "text/plain": [
       "        sigmaN    sigmaA       eta     kappa      beta      bias  \\\n",
       "mean  0.058039  0.682636  0.166464  0.731820  9.466421  0.307891   \n",
       "std   0.044343  0.239846  0.194145  0.272995  8.335521  0.143294   \n",
       "\n",
       "      intrusive_anxiety  lowSelfWorth  lackSelfControl  \n",
       "mean          -1.016189     -0.436234        -0.368570  \n",
       "std            0.211828      0.801424         0.872832  "
      ]
     },
     "execution_count": 331,
     "metadata": {},
     "output_type": "execute_result"
    }
   ],
   "source": [
    "dfa_low.agg({'mean','std'})"
   ]
  },
  {
   "cell_type": "code",
   "execution_count": 132,
   "metadata": {
    "scrolled": true
   },
   "outputs": [
    {
     "data": {
      "text/plain": [
       "(482, 9)"
      ]
     },
     "execution_count": 132,
     "metadata": {},
     "output_type": "execute_result"
    }
   ],
   "source": [
    "dfa.shape"
   ]
  },
  {
   "cell_type": "code",
   "execution_count": 321,
   "metadata": {
    "scrolled": false
   },
   "outputs": [
    {
     "data": {
      "text/plain": [
       "48.2"
      ]
     },
     "execution_count": 321,
     "metadata": {},
     "output_type": "execute_result"
    }
   ],
   "source": [
    "482*.1"
   ]
  },
  {
   "cell_type": "code",
   "execution_count": 289,
   "metadata": {},
   "outputs": [
    {
     "data": {
      "text/plain": [
       "0.03112033195020747"
      ]
     },
     "execution_count": 289,
     "metadata": {},
     "output_type": "execute_result"
    }
   ],
   "source": [
    "15./482"
   ]
  },
  {
   "cell_type": "code",
   "execution_count": 304,
   "metadata": {},
   "outputs": [
    {
     "data": {
      "text/plain": [
       "sigmaN               0.048243\n",
       "sigmaA               0.792489\n",
       "eta                  0.102743\n",
       "kappa                0.866019\n",
       "beta                 7.504693\n",
       "bias                 0.323432\n",
       "intrusive_anxiety   -0.239700\n",
       "lowSelfWorth        -0.067300\n",
       "lackSelfControl      0.024833\n",
       "Name: 0.5, dtype: float64"
      ]
     },
     "execution_count": 304,
     "metadata": {},
     "output_type": "execute_result"
    }
   ],
   "source": [
    "dfa.quantile()"
   ]
  },
  {
   "cell_type": "code",
   "execution_count": 315,
   "metadata": {},
   "outputs": [
    {
     "data": {
      "text/plain": [
       "sigmaN               5.730715e-02\n",
       "sigmaA               6.949604e-01\n",
       "eta                  1.717048e-01\n",
       "kappa                7.443987e-01\n",
       "beta                 9.510402e+00\n",
       "bias                 3.154886e-01\n",
       "intrusive_anxiety    2.074653e-12\n",
       "lowSelfWorth        -3.220954e-06\n",
       "lackSelfControl      2.697098e-11\n",
       "dtype: float64"
      ]
     },
     "execution_count": 315,
     "metadata": {},
     "output_type": "execute_result"
    }
   ],
   "source": [
    "dfa.mean()"
   ]
  },
  {
   "cell_type": "code",
   "execution_count": 54,
   "metadata": {},
   "outputs": [],
   "source": [
    "# dfa['sigmaA'].plot(kind='hist')"
   ]
  },
  {
   "cell_type": "code",
   "execution_count": 129,
   "metadata": {},
   "outputs": [],
   "source": [
    "# dfa['lowSelfWorth'].plot(kind='hist')"
   ]
  },
  {
   "cell_type": "code",
   "execution_count": 130,
   "metadata": {},
   "outputs": [],
   "source": [
    "# dfa['lackSelfControl'].plot(kind='hist')"
   ]
  },
  {
   "cell_type": "markdown",
   "metadata": {},
   "source": [
    "### looking at hb fitted params"
   ]
  },
  {
   "cell_type": "code",
   "execution_count": 10,
   "metadata": {},
   "outputs": [],
   "source": [
    "dfh = pd.read_csv('./AMT/AMT_subj_params.csv')"
   ]
  },
  {
   "cell_type": "code",
   "execution_count": 13,
   "metadata": {},
   "outputs": [],
   "source": [
    "dfh = dfh.join(df[factors])"
   ]
  },
  {
   "cell_type": "code",
   "execution_count": 14,
   "metadata": {},
   "outputs": [
    {
     "data": {
      "text/html": [
       "<div>\n",
       "<style scoped>\n",
       "    .dataframe tbody tr th:only-of-type {\n",
       "        vertical-align: middle;\n",
       "    }\n",
       "\n",
       "    .dataframe tbody tr th {\n",
       "        vertical-align: top;\n",
       "    }\n",
       "\n",
       "    .dataframe thead th {\n",
       "        text-align: right;\n",
       "    }\n",
       "</style>\n",
       "<table border=\"1\" class=\"dataframe\">\n",
       "  <thead>\n",
       "    <tr style=\"text-align: right;\">\n",
       "      <th></th>\n",
       "      <th>sigma_a_mean</th>\n",
       "      <th>sigma_a_std</th>\n",
       "      <th>sigma_n_mean</th>\n",
       "      <th>sigma_n_std</th>\n",
       "      <th>eta_mean</th>\n",
       "      <th>eta_std</th>\n",
       "      <th>kappa_mean</th>\n",
       "      <th>kappa_std</th>\n",
       "      <th>beta_mean</th>\n",
       "      <th>beta_std</th>\n",
       "      <th>bias_mean</th>\n",
       "      <th>bias_std</th>\n",
       "      <th>intrusive_anxiety</th>\n",
       "      <th>lowSelfWorth</th>\n",
       "      <th>lackSelfControl</th>\n",
       "    </tr>\n",
       "  </thead>\n",
       "  <tbody>\n",
       "    <tr>\n",
       "      <th>0</th>\n",
       "      <td>0.153913</td>\n",
       "      <td>0.106030</td>\n",
       "      <td>0.071062</td>\n",
       "      <td>0.029478</td>\n",
       "      <td>0.022420</td>\n",
       "      <td>0.020316</td>\n",
       "      <td>0.886616</td>\n",
       "      <td>0.090439</td>\n",
       "      <td>2.455078</td>\n",
       "      <td>0.650473</td>\n",
       "      <td>0.012210</td>\n",
       "      <td>0.016252</td>\n",
       "      <td>-0.495301</td>\n",
       "      <td>0.214</td>\n",
       "      <td>-0.393995</td>\n",
       "    </tr>\n",
       "    <tr>\n",
       "      <th>1</th>\n",
       "      <td>0.475361</td>\n",
       "      <td>0.152079</td>\n",
       "      <td>0.068173</td>\n",
       "      <td>0.026032</td>\n",
       "      <td>0.010925</td>\n",
       "      <td>0.008012</td>\n",
       "      <td>0.887214</td>\n",
       "      <td>0.088176</td>\n",
       "      <td>1.823374</td>\n",
       "      <td>0.393496</td>\n",
       "      <td>0.010744</td>\n",
       "      <td>0.012164</td>\n",
       "      <td>-0.398173</td>\n",
       "      <td>-1.230</td>\n",
       "      <td>-0.190080</td>\n",
       "    </tr>\n",
       "    <tr>\n",
       "      <th>2</th>\n",
       "      <td>0.399017</td>\n",
       "      <td>0.149246</td>\n",
       "      <td>0.071602</td>\n",
       "      <td>0.031026</td>\n",
       "      <td>0.013585</td>\n",
       "      <td>0.012963</td>\n",
       "      <td>0.889226</td>\n",
       "      <td>0.086259</td>\n",
       "      <td>1.881673</td>\n",
       "      <td>0.479983</td>\n",
       "      <td>0.010687</td>\n",
       "      <td>0.012080</td>\n",
       "      <td>-0.674807</td>\n",
       "      <td>-1.120</td>\n",
       "      <td>-0.774553</td>\n",
       "    </tr>\n",
       "    <tr>\n",
       "      <th>3</th>\n",
       "      <td>0.348573</td>\n",
       "      <td>0.112607</td>\n",
       "      <td>0.069672</td>\n",
       "      <td>0.028764</td>\n",
       "      <td>0.024043</td>\n",
       "      <td>0.018579</td>\n",
       "      <td>0.881934</td>\n",
       "      <td>0.093315</td>\n",
       "      <td>4.803110</td>\n",
       "      <td>0.754809</td>\n",
       "      <td>0.010713</td>\n",
       "      <td>0.012007</td>\n",
       "      <td>-0.365801</td>\n",
       "      <td>0.971</td>\n",
       "      <td>0.650719</td>\n",
       "    </tr>\n",
       "    <tr>\n",
       "      <th>4</th>\n",
       "      <td>0.487995</td>\n",
       "      <td>0.165543</td>\n",
       "      <td>0.067217</td>\n",
       "      <td>0.024671</td>\n",
       "      <td>0.012752</td>\n",
       "      <td>0.014343</td>\n",
       "      <td>0.884638</td>\n",
       "      <td>0.091872</td>\n",
       "      <td>1.397961</td>\n",
       "      <td>0.322636</td>\n",
       "      <td>0.011266</td>\n",
       "      <td>0.014042</td>\n",
       "      <td>-0.466397</td>\n",
       "      <td>1.860</td>\n",
       "      <td>0.089181</td>\n",
       "    </tr>\n",
       "  </tbody>\n",
       "</table>\n",
       "</div>"
      ],
      "text/plain": [
       "   sigma_a_mean  sigma_a_std  sigma_n_mean  sigma_n_std  eta_mean   eta_std  \\\n",
       "0      0.153913     0.106030      0.071062     0.029478  0.022420  0.020316   \n",
       "1      0.475361     0.152079      0.068173     0.026032  0.010925  0.008012   \n",
       "2      0.399017     0.149246      0.071602     0.031026  0.013585  0.012963   \n",
       "3      0.348573     0.112607      0.069672     0.028764  0.024043  0.018579   \n",
       "4      0.487995     0.165543      0.067217     0.024671  0.012752  0.014343   \n",
       "\n",
       "   kappa_mean  kappa_std  beta_mean  beta_std  bias_mean  bias_std  \\\n",
       "0    0.886616   0.090439   2.455078  0.650473   0.012210  0.016252   \n",
       "1    0.887214   0.088176   1.823374  0.393496   0.010744  0.012164   \n",
       "2    0.889226   0.086259   1.881673  0.479983   0.010687  0.012080   \n",
       "3    0.881934   0.093315   4.803110  0.754809   0.010713  0.012007   \n",
       "4    0.884638   0.091872   1.397961  0.322636   0.011266  0.014042   \n",
       "\n",
       "   intrusive_anxiety  lowSelfWorth  lackSelfControl  \n",
       "0          -0.495301         0.214        -0.393995  \n",
       "1          -0.398173        -1.230        -0.190080  \n",
       "2          -0.674807        -1.120        -0.774553  \n",
       "3          -0.365801         0.971         0.650719  \n",
       "4          -0.466397         1.860         0.089181  "
      ]
     },
     "execution_count": 14,
     "metadata": {},
     "output_type": "execute_result"
    }
   ],
   "source": [
    "dfh.head()"
   ]
  },
  {
   "cell_type": "code",
   "execution_count": 18,
   "metadata": {},
   "outputs": [],
   "source": [
    "dfha = dfh.sort_values(['intrusive_anxiety', 'lowSelfWorth','lackSelfControl'], \n",
    "                     ascending=[False,False,False])"
   ]
  },
  {
   "cell_type": "code",
   "execution_count": 49,
   "metadata": {},
   "outputs": [
    {
     "data": {
      "text/html": [
       "<div>\n",
       "<style scoped>\n",
       "    .dataframe tbody tr th:only-of-type {\n",
       "        vertical-align: middle;\n",
       "    }\n",
       "\n",
       "    .dataframe tbody tr th {\n",
       "        vertical-align: top;\n",
       "    }\n",
       "\n",
       "    .dataframe thead th {\n",
       "        text-align: right;\n",
       "    }\n",
       "</style>\n",
       "<table border=\"1\" class=\"dataframe\">\n",
       "  <thead>\n",
       "    <tr style=\"text-align: right;\">\n",
       "      <th></th>\n",
       "      <th>sigma_a_mean</th>\n",
       "      <th>sigma_a_std</th>\n",
       "      <th>sigma_n_mean</th>\n",
       "      <th>sigma_n_std</th>\n",
       "      <th>eta_mean</th>\n",
       "      <th>eta_std</th>\n",
       "      <th>kappa_mean</th>\n",
       "      <th>kappa_std</th>\n",
       "      <th>beta_mean</th>\n",
       "      <th>beta_std</th>\n",
       "      <th>bias_mean</th>\n",
       "      <th>bias_std</th>\n",
       "      <th>intrusive_anxiety</th>\n",
       "      <th>lowSelfWorth</th>\n",
       "      <th>lackSelfControl</th>\n",
       "    </tr>\n",
       "  </thead>\n",
       "  <tbody>\n",
       "    <tr>\n",
       "      <th>std</th>\n",
       "      <td>0.227242</td>\n",
       "      <td>0.050162</td>\n",
       "      <td>0.123603</td>\n",
       "      <td>0.056394</td>\n",
       "      <td>0.173868</td>\n",
       "      <td>0.072669</td>\n",
       "      <td>0.091628</td>\n",
       "      <td>0.071245</td>\n",
       "      <td>2.075617</td>\n",
       "      <td>0.494051</td>\n",
       "      <td>0.018967</td>\n",
       "      <td>0.019632</td>\n",
       "      <td>0.622700</td>\n",
       "      <td>1.075598</td>\n",
       "      <td>1.022177</td>\n",
       "    </tr>\n",
       "    <tr>\n",
       "      <th>mean</th>\n",
       "      <td>0.753198</td>\n",
       "      <td>0.120550</td>\n",
       "      <td>0.186256</td>\n",
       "      <td>0.094609</td>\n",
       "      <td>0.061700</td>\n",
       "      <td>0.036245</td>\n",
       "      <td>0.841340</td>\n",
       "      <td>0.119456</td>\n",
       "      <td>2.339464</td>\n",
       "      <td>0.625713</td>\n",
       "      <td>0.022054</td>\n",
       "      <td>0.023763</td>\n",
       "      <td>2.950162</td>\n",
       "      <td>0.626671</td>\n",
       "      <td>0.511872</td>\n",
       "    </tr>\n",
       "  </tbody>\n",
       "</table>\n",
       "</div>"
      ],
      "text/plain": [
       "      sigma_a_mean  sigma_a_std  sigma_n_mean  sigma_n_std  eta_mean  \\\n",
       "std       0.227242     0.050162      0.123603     0.056394  0.173868   \n",
       "mean      0.753198     0.120550      0.186256     0.094609  0.061700   \n",
       "\n",
       "       eta_std  kappa_mean  kappa_std  beta_mean  beta_std  bias_mean  \\\n",
       "std   0.072669    0.091628   0.071245   2.075617  0.494051   0.018967   \n",
       "mean  0.036245    0.841340   0.119456   2.339464  0.625713   0.022054   \n",
       "\n",
       "      bias_std  intrusive_anxiety  lowSelfWorth  lackSelfControl  \n",
       "std   0.019632           0.622700      1.075598         1.022177  \n",
       "mean  0.023763           2.950162      0.626671         0.511872  "
      ]
     },
     "execution_count": 49,
     "metadata": {},
     "output_type": "execute_result"
    }
   ],
   "source": [
    "dfha_high = dfha.iloc[:14] # approx patients\n",
    "dfha_high.agg({'mean','std'})"
   ]
  },
  {
   "cell_type": "code",
   "execution_count": 51,
   "metadata": {},
   "outputs": [
    {
     "data": {
      "text/html": [
       "<div>\n",
       "<style scoped>\n",
       "    .dataframe tbody tr th:only-of-type {\n",
       "        vertical-align: middle;\n",
       "    }\n",
       "\n",
       "    .dataframe tbody tr th {\n",
       "        vertical-align: top;\n",
       "    }\n",
       "\n",
       "    .dataframe thead th {\n",
       "        text-align: right;\n",
       "    }\n",
       "</style>\n",
       "<table border=\"1\" class=\"dataframe\">\n",
       "  <thead>\n",
       "    <tr style=\"text-align: right;\">\n",
       "      <th></th>\n",
       "      <th>sigma_a_mean</th>\n",
       "      <th>sigma_a_std</th>\n",
       "      <th>sigma_n_mean</th>\n",
       "      <th>sigma_n_std</th>\n",
       "      <th>eta_mean</th>\n",
       "      <th>eta_std</th>\n",
       "      <th>kappa_mean</th>\n",
       "      <th>kappa_std</th>\n",
       "      <th>beta_mean</th>\n",
       "      <th>beta_std</th>\n",
       "      <th>bias_mean</th>\n",
       "      <th>bias_std</th>\n",
       "      <th>intrusive_anxiety</th>\n",
       "      <th>lowSelfWorth</th>\n",
       "      <th>lackSelfControl</th>\n",
       "    </tr>\n",
       "  </thead>\n",
       "  <tbody>\n",
       "    <tr>\n",
       "      <th>std</th>\n",
       "      <td>0.223596</td>\n",
       "      <td>0.072055</td>\n",
       "      <td>0.121551</td>\n",
       "      <td>0.045198</td>\n",
       "      <td>0.035269</td>\n",
       "      <td>0.051059</td>\n",
       "      <td>0.118434</td>\n",
       "      <td>0.047618</td>\n",
       "      <td>1.184023</td>\n",
       "      <td>0.251727</td>\n",
       "      <td>0.039126</td>\n",
       "      <td>0.029373</td>\n",
       "      <td>0.249170</td>\n",
       "      <td>0.799653</td>\n",
       "      <td>0.870577</td>\n",
       "    </tr>\n",
       "    <tr>\n",
       "      <th>mean</th>\n",
       "      <td>0.730823</td>\n",
       "      <td>0.136760</td>\n",
       "      <td>0.150218</td>\n",
       "      <td>0.064750</td>\n",
       "      <td>0.020473</td>\n",
       "      <td>0.029242</td>\n",
       "      <td>0.826545</td>\n",
       "      <td>0.109450</td>\n",
       "      <td>2.039347</td>\n",
       "      <td>0.491206</td>\n",
       "      <td>0.026635</td>\n",
       "      <td>0.027112</td>\n",
       "      <td>-0.919868</td>\n",
       "      <td>-0.437758</td>\n",
       "      <td>-0.355178</td>\n",
       "    </tr>\n",
       "  </tbody>\n",
       "</table>\n",
       "</div>"
      ],
      "text/plain": [
       "      sigma_a_mean  sigma_a_std  sigma_n_mean  sigma_n_std  eta_mean  \\\n",
       "std       0.223596     0.072055      0.121551     0.045198  0.035269   \n",
       "mean      0.730823     0.136760      0.150218     0.064750  0.020473   \n",
       "\n",
       "       eta_std  kappa_mean  kappa_std  beta_mean  beta_std  bias_mean  \\\n",
       "std   0.051059    0.118434   0.047618   1.184023  0.251727   0.039126   \n",
       "mean  0.029242    0.826545   0.109450   2.039347  0.491206   0.026635   \n",
       "\n",
       "      bias_std  intrusive_anxiety  lowSelfWorth  lackSelfControl  \n",
       "std   0.029373           0.249170      0.799653         0.870577  \n",
       "mean  0.027112          -0.919868     -0.437758        -0.355178  "
      ]
     },
     "execution_count": 51,
     "metadata": {},
     "output_type": "execute_result"
    }
   ],
   "source": [
    "dfha_low = dfha.iloc[-48*4:] # approx controls\n",
    "dfha_low.agg({'mean','std'})"
   ]
  },
  {
   "cell_type": "code",
   "execution_count": 57,
   "metadata": {},
   "outputs": [],
   "source": [
    "# dfha['eta_mean'].plot(kind='hist')"
   ]
  },
  {
   "cell_type": "code",
   "execution_count": null,
   "metadata": {},
   "outputs": [],
   "source": []
  }
 ],
 "metadata": {
  "kernelspec": {
   "display_name": "Python 3",
   "language": "python",
   "name": "python3"
  },
  "language_info": {
   "codemirror_mode": {
    "name": "ipython",
    "version": 3
   },
   "file_extension": ".py",
   "mimetype": "text/x-python",
   "name": "python",
   "nbconvert_exporter": "python",
   "pygments_lexer": "ipython3",
   "version": "3.9.0"
  }
 },
 "nbformat": 4,
 "nbformat_minor": 4
}
